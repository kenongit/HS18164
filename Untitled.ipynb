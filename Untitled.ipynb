{
 "cells": [
  {
   "cell_type": "code",
   "execution_count": 2,
   "metadata": {},
   "outputs": [
    {
     "ename": "UnicodeDecodeError",
     "evalue": "'cp950' codec can't decode byte 0xff in position 0: illegal multibyte sequence",
     "output_type": "error",
     "traceback": [
      "\u001b[1;31m---------------------------------------------------------------------------\u001b[0m",
      "\u001b[1;31mUnicodeDecodeError\u001b[0m                        Traceback (most recent call last)",
      "\u001b[1;32m<ipython-input-2-ddf40f940af9>\u001b[0m in \u001b[0;36m<module>\u001b[1;34m\u001b[0m\n\u001b[0;32m      3\u001b[0m \u001b[1;33m\u001b[0m\u001b[0m\n\u001b[0;32m      4\u001b[0m \u001b[1;31m# load matrix file\u001b[0m\u001b[1;33m\u001b[0m\u001b[1;33m\u001b[0m\u001b[1;33m\u001b[0m\u001b[0m\n\u001b[1;32m----> 5\u001b[1;33m \u001b[0mnet\u001b[0m\u001b[1;33m.\u001b[0m\u001b[0mload_file\u001b[0m\u001b[1;33m(\u001b[0m\u001b[1;34m'a.txt'\u001b[0m\u001b[1;33m)\u001b[0m\u001b[1;33m\u001b[0m\u001b[1;33m\u001b[0m\u001b[0m\n\u001b[0m\u001b[0;32m      6\u001b[0m \u001b[1;33m\u001b[0m\u001b[0m\n\u001b[0;32m      7\u001b[0m \u001b[1;31m# cluster using default parameters\u001b[0m\u001b[1;33m\u001b[0m\u001b[1;33m\u001b[0m\u001b[1;33m\u001b[0m\u001b[0m\n",
      "\u001b[1;32m~\\Anaconda3\\lib\\site-packages\\clustergrammer_widget\\clustergrammer\\__init__.py\u001b[0m in \u001b[0;36mload_file\u001b[1;34m(self, filename)\u001b[0m\n\u001b[0;32m     45\u001b[0m     \u001b[0mLoad\u001b[0m \u001b[0mTSV\u001b[0m \u001b[0mfile\u001b[0m\u001b[1;33m.\u001b[0m\u001b[1;33m\u001b[0m\u001b[1;33m\u001b[0m\u001b[0m\n\u001b[0;32m     46\u001b[0m     '''\n\u001b[1;32m---> 47\u001b[1;33m     \u001b[0mload_data\u001b[0m\u001b[1;33m.\u001b[0m\u001b[0mload_file\u001b[0m\u001b[1;33m(\u001b[0m\u001b[0mself\u001b[0m\u001b[1;33m,\u001b[0m \u001b[0mfilename\u001b[0m\u001b[1;33m)\u001b[0m\u001b[1;33m\u001b[0m\u001b[1;33m\u001b[0m\u001b[0m\n\u001b[0m\u001b[0;32m     48\u001b[0m \u001b[1;33m\u001b[0m\u001b[0m\n\u001b[0;32m     49\u001b[0m   \u001b[1;32mdef\u001b[0m \u001b[0mload_file_as_string\u001b[0m\u001b[1;33m(\u001b[0m\u001b[0mself\u001b[0m\u001b[1;33m,\u001b[0m \u001b[0mfile_string\u001b[0m\u001b[1;33m,\u001b[0m \u001b[0mfilename\u001b[0m\u001b[1;33m=\u001b[0m\u001b[1;34m''\u001b[0m\u001b[1;33m)\u001b[0m\u001b[1;33m:\u001b[0m\u001b[1;33m\u001b[0m\u001b[1;33m\u001b[0m\u001b[0m\n",
      "\u001b[1;32m~\\Anaconda3\\lib\\site-packages\\clustergrammer_widget\\clustergrammer\\load_data.py\u001b[0m in \u001b[0;36mload_file\u001b[1;34m(net, filename)\u001b[0m\n\u001b[0;32m     22\u001b[0m   \u001b[0mf\u001b[0m \u001b[1;33m=\u001b[0m \u001b[0mopen\u001b[0m\u001b[1;33m(\u001b[0m\u001b[0mfilename\u001b[0m\u001b[1;33m,\u001b[0m \u001b[1;34m'r'\u001b[0m\u001b[1;33m)\u001b[0m\u001b[1;33m\u001b[0m\u001b[1;33m\u001b[0m\u001b[0m\n\u001b[0;32m     23\u001b[0m \u001b[1;33m\u001b[0m\u001b[0m\n\u001b[1;32m---> 24\u001b[1;33m   \u001b[0mfile_string\u001b[0m \u001b[1;33m=\u001b[0m \u001b[0mf\u001b[0m\u001b[1;33m.\u001b[0m\u001b[0mread\u001b[0m\u001b[1;33m(\u001b[0m\u001b[1;33m)\u001b[0m\u001b[1;33m\u001b[0m\u001b[1;33m\u001b[0m\u001b[0m\n\u001b[0m\u001b[0;32m     25\u001b[0m   \u001b[0mf\u001b[0m\u001b[1;33m.\u001b[0m\u001b[0mclose\u001b[0m\u001b[1;33m(\u001b[0m\u001b[1;33m)\u001b[0m\u001b[1;33m\u001b[0m\u001b[1;33m\u001b[0m\u001b[0m\n\u001b[0;32m     26\u001b[0m \u001b[1;33m\u001b[0m\u001b[0m\n",
      "\u001b[1;31mUnicodeDecodeError\u001b[0m: 'cp950' codec can't decode byte 0xff in position 0: illegal multibyte sequence"
     ]
    }
   ],
   "source": [
    "from clustergrammer_widget import *\n",
    "net = Network(clustergrammer_widget)\n",
    "\n",
    "# load matrix file\n",
    "net.load_file('a.txt')\n",
    "\n",
    "# cluster using default parameters\n",
    "net.cluster()\n",
    "\n",
    "# make interactive widget\n",
    "net.widget()"
   ]
  },
  {
   "cell_type": "code",
   "execution_count": 6,
   "metadata": {},
   "outputs": [
    {
     "name": "stdout",
     "output_type": "stream",
     "text": [
      "﻿\t\tCell Line: H1650\n",
      "\n",
      "Gene: CDK4\tGene Type: Interesting\t-0.792803571\n",
      "\n",
      "Gene: LMTK3\tGene Type: Not Interesting\t0.17762054\n",
      "\n",
      "Gene: LRRK2\tGene Type: Not Interesting\t-0.697876151\n",
      "\n",
      "Gene: UHMK1\tGene Type: Not Interesting\t0.850546518\n",
      "\n",
      "Gene: EGFR\tGene Type: Interesting\t1.412416216\n",
      "\n",
      "Gene: STK32A\tGene Type: Interesting\t-0.388039665\n",
      "\n",
      "Gene: NRK\tGene Type: Interesting\t1.408537135\n",
      "\n",
      "Gene: ERBB2\tGene Type: Not Interesting\t0.906642406\n",
      "\n",
      "Gene: ERBB4\tGene Type: Not Interesting\t-0.452907052\n",
      "\n",
      "Gene: AAK1\tGene Type: Not Interesting\t3.579051735\n",
      "\n",
      "Gene: SRPK3\tGene Type: Not Interesting\t-0.582761335\n",
      "\n",
      "Gene: STK39\tGene Type: Interesting\t-0.58688791\n",
      "\n",
      "Gene: GRK4\tGene Type: Not Interesting\t-0.693639785\n",
      "\n",
      "Gene: TBK1\tGene Type: Not Interesting\t0.327203594\n",
      "\n",
      "Gene: INSRR\tGene Type: Not Interesting\t0.331108191\n",
      "\n",
      "Gene: IRAK1\tGene Type: Interesting\t0.141183837\n",
      "\n",
      "Gene: KDR\tGene Type: Not Interesting\t-0.524309949\n",
      "\n",
      "Gene: NPR1\tGene Type: Interesting\t0.509592174\n",
      "\n",
      "Gene: PAK3\tGene Type: Not Interesting\t-0.554447111\n",
      "\n",
      "Gene: PDGFRA\tGene Type: Interesting\t-0.530831743\n",
      "\n",
      "Gene: PDK4\tGene Type: Not Interesting\t-0.643246331\n",
      "\n",
      "Gene: ULK4\tGene Type: Interesting\t-0.693868027\n",
      "\n",
      "Gene: PRKCE\tGene Type: Not Interesting\t0.006531886\n",
      "\n",
      "Gene: PRKG2\tGene Type: Not Interesting\t-0.185695405\n",
      "\n",
      "Gene: MAPK4\tGene Type: Interesting\t0.184462349\n",
      "\n",
      "Gene: MAPK11\tGene Type: Interesting\t1.760301448\n",
      "\n",
      "Gene: STK31\tGene Type: Interesting\t-0.07364355\n",
      "\n",
      "Gene: GRK1\tGene Type: Not Interesting\t-0.751526741\n",
      "\n",
      "Gene: ROS1\tGene Type: Interesting\t-0.31236414\n",
      "\n",
      "Gene: MAP2K4\tGene Type: Interesting\t0.11931136\n",
      "\n",
      "Gene: SRC\tGene Type: Interesting\t-0.294263824\n",
      "\n",
      "Gene: TGFBR1\tGene Type: Interesting\t-0.000863802\n",
      "\n",
      "Gene: CAMK2B\tGene Type: Not Interesting\t-0.276736819\n",
      "\n",
      "Gene: STK24\tGene Type: Interesting\t-0.31807579\n",
      "\n",
      "Gene: DCLK3\tGene Type: Not Interesting\t-0.670177714\n",
      "\n",
      "Gene: LATS1\tGene Type: Not Interesting\t-0.695252888\n",
      "\n",
      "Gene: NEK9\tGene Type: Not Interesting\t-0.337849025\n",
      "\n",
      "Gene: MYLK3\tGene Type: Not Interesting\t-0.368173217\n",
      "\n"
     ]
    }
   ],
   "source": [
    "with open(\"b.txt\", encoding=\"utf-8\") as fh:\n",
    "    for line in fh:\n",
    "        print(line)"
   ]
  },
  {
   "cell_type": "code",
   "execution_count": null,
   "metadata": {},
   "outputs": [],
   "source": []
  },
  {
   "cell_type": "code",
   "execution_count": null,
   "metadata": {},
   "outputs": [],
   "source": []
  }
 ],
 "metadata": {
  "kernelspec": {
   "display_name": "Python 3",
   "language": "python",
   "name": "python3"
  }
 },
 "nbformat": 4,
 "nbformat_minor": 2
}
