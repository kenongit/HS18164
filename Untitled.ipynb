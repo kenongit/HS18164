{
 "cells": [
  {
   "cell_type": "code",
   "execution_count": 10,
   "metadata": {},
   "outputs": [
    {
     "data": {
      "application/vnd.jupyter.widget-view+json": {
       "model_id": "59ea223fbc7449aa84543f48d0c39a38",
       "version_major": 2,
       "version_minor": 0
      },
      "text/plain": [
       "clustergrammer_widget(network='{\"row_nodes\": [{\"name\": \"Gene: CDK4\", \"ini\": 38, \"clust\": 14, \"rank\": 30, \"rank…"
      ]
     },
     "metadata": {},
     "output_type": "display_data"
    }
   ],
   "source": [
    "from clustergrammer_widget import *\n",
    "net = Network(clustergrammer_widget)\n",
    "\n",
    "# load matrix file\n",
    "net.load_file('rc_two_cats.txt')\n",
    "\n",
    "# cluster using default parameters\n",
    "net.cluster()\n",
    "\n",
    "# make interactive widget\n",
    "net.widget()"
   ]
  },
  {
   "cell_type": "code",
   "execution_count": 8,
   "metadata": {},
   "outputs": [],
   "source": [
    "with open(\"rc_two_cats.txt\", encoding=\"utf-8\") as fh, open(\"b.txt\", \"w\") as fw:\n",
    "    for line in fh:\n",
    "        lines = line.split(\"\\t\")\n",
    "        fw.write(\"\\t\".join(lines[:3])+\"\\n\")\n",
    "        "
   ]
  },
  {
   "cell_type": "code",
   "execution_count": null,
   "metadata": {},
   "outputs": [],
   "source": []
  },
  {
   "cell_type": "code",
   "execution_count": null,
   "metadata": {},
   "outputs": [],
   "source": []
  }
 ],
 "metadata": {
  "kernelspec": {
   "display_name": "Python 3",
   "language": "python",
   "name": "python3"
  },
  "language_info": {
   "codemirror_mode": {
    "name": "ipython",
    "version": 3
   },
   "file_extension": ".py",
   "mimetype": "text/x-python",
   "name": "python",
   "nbconvert_exporter": "python",
   "pygments_lexer": "ipython3",
   "version": "3.7.1"
  }
 },
 "nbformat": 4,
 "nbformat_minor": 2
}
