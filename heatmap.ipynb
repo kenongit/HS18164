from clustergrammer_widget import *
net = Network(clustergrammer_widget)

# load matrix file
net.load_file('rc_two_cats.txt')

# cluster using default parameters
net.cluster(enrichrgram=True)

# make interactive widget
net.widget()
